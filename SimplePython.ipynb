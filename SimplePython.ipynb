{
 "cells": [
  {
   "cell_type": "markdown",
   "metadata": {},
   "source": [
    "# A Simple Introduction to Python"
   ]
  },
  {
   "cell_type": "markdown",
   "metadata": {},
   "source": [
    "This is a Jupyter notebook. It allows you to combine code with text, plots, images, and even videos. (Jupyter Notebooks are useful for sharing research with collaborators and the general public!) We will be coding in the Python language inside this Jupyter notebook."
   ]
  },
  {
   "cell_type": "markdown",
   "metadata": {},
   "source": [
    "<br>To __run__ your code, click in a gray code cell and then press the run button above (the sideways triangle that looks like a \"play\" button). Or, click in the cell and press shift+enter (shift+return on a Mac). Try it in the cell below:"
   ]
  },
  {
   "cell_type": "code",
   "execution_count": null,
   "metadata": {},
   "outputs": [],
   "source": [
    "print(\"Hello World!\")"
   ]
  },
  {
   "cell_type": "markdown",
   "metadata": {},
   "source": [
    "You used the `print()` function to print a string of characters to the screen."
   ]
  },
  {
   "cell_type": "markdown",
   "metadata": {},
   "source": [
    "<br><br>In Python, it is easy to assign data to a __variable__ name. We use the equal sign:"
   ]
  },
  {
   "cell_type": "code",
   "execution_count": null,
   "metadata": {},
   "outputs": [],
   "source": [
    "x = 3"
   ]
  },
  {
   "cell_type": "markdown",
   "metadata": {},
   "source": [
    "<br>Enter your name __between the quotation marks__ in the code cell below to assign it to the variable `my_name`:"
   ]
  },
  {
   "cell_type": "code",
   "execution_count": null,
   "metadata": {},
   "outputs": [],
   "source": [
    "my_name = \"\""
   ]
  },
  {
   "cell_type": "markdown",
   "metadata": {},
   "source": [
    "<br>The code in the following cell will print a message that is three lines long. __Before you run the cell, take a minute to try and predict what the message will say:__"
   ]
  },
  {
   "cell_type": "code",
   "execution_count": null,
   "metadata": {},
   "outputs": [],
   "source": [
    "print(\"Hello, \" + my_name + \"!\")\n",
    "if len(my_name) > 7:\n",
    "    print(\"What a sophisticated name.\")\n",
    "else:\n",
    "    print(\"What a concise name.\")\n",
    "print(my_name * x)"
   ]
  },
  {
   "cell_type": "markdown",
   "metadata": {},
   "source": [
    "<br>**If you got an error when you ran the cell, check these common mistakes:**\n",
    "- Did you __run__ the two code cells above (where we defined the variables `x` and `my_name`) before running the message cell?\n",
    "- Did you enter your name between the quotation marks in the cell where we defined `my_name` and then run that cell?"
   ]
  },
  {
   "cell_type": "markdown",
   "metadata": {},
   "source": [
    "<br> You just used two of the most common __data types__: the variable `x` is an __integer__ and `my_name` is a __string__."
   ]
  },
  {
   "cell_type": "markdown",
   "metadata": {},
   "source": [
    "In the message cell, we used much of the basic Python syntax. __Take a look back at the message cell to determine if you can see where each of the following syntax cases was used:__\n",
    "- two __functions__: `print()` prints an object to the screen, and `len()` returns the length of an object\n",
    "- an __if else statement__\n",
    "- the __conditional__ `>` (greater than)\n",
    "- the use of indentation (4 spaces or one tab) to group one line of code with __if__ and another line of code with __else__\n",
    "- multiplication of a string and an integer with `my_name * x`"
   ]
  },
  {
   "cell_type": "markdown",
   "metadata": {},
   "source": [
    "#### <br>You are halfway to becoming an Intermediate Python coder!"
   ]
  },
  {
   "cell_type": "markdown",
   "metadata": {},
   "source": [
    "(You still need to learn __lists__, __floats__, __for loops__, and __dictionaries__.)"
   ]
  },
  {
   "cell_type": "markdown",
   "metadata": {},
   "source": [
    "****"
   ]
  },
  {
   "cell_type": "markdown",
   "metadata": {},
   "source": [
    "## <br>Working with Data"
   ]
  },
  {
   "cell_type": "markdown",
   "metadata": {},
   "source": [
    "Python has a special module called **pandas** for organizing data into __dataframes__."
   ]
  },
  {
   "cell_type": "markdown",
   "metadata": {},
   "source": [
    "A __dataframe__ is a data table organized in rows and columns (like an Excel spreadsheet)."
   ]
  },
  {
   "cell_type": "markdown",
   "metadata": {},
   "source": [
    "We use an __import__ statement to load modules:"
   ]
  },
  {
   "cell_type": "code",
   "execution_count": null,
   "metadata": {},
   "outputs": [],
   "source": [
    "import pandas"
   ]
  },
  {
   "cell_type": "markdown",
   "metadata": {},
   "source": [
    "Run the cell above. Raise your hand if you get any errors. From here on out, you can run each cell as we move through the notebook."
   ]
  },
  {
   "cell_type": "markdown",
   "metadata": {},
   "source": [
    "### <br>Immunization Data"
   ]
  },
  {
   "cell_type": "markdown",
   "metadata": {},
   "source": [
    "Today we will be working with a publically available dataset from Unicef: https://data.unicef.org/resources/dataset/immunization/"
   ]
  },
  {
   "cell_type": "markdown",
   "metadata": {},
   "source": [
    "<br>First, let's assign our csv data file to a variable:"
   ]
  },
  {
   "cell_type": "code",
   "execution_count": null,
   "metadata": {},
   "outputs": [],
   "source": [
    "datafile = \"vaccine_clean.csv\""
   ]
  },
  {
   "cell_type": "markdown",
   "metadata": {},
   "source": [
    "<br>Load the data in as a pandas dataframe:"
   ]
  },
  {
   "cell_type": "code",
   "execution_count": null,
   "metadata": {},
   "outputs": [],
   "source": [
    "df = pandas.read_csv(datafile)"
   ]
  },
  {
   "cell_type": "markdown",
   "metadata": {},
   "source": [
    "**Note:** I've chosen to assign our dataframe to the variable `df`. This is a common way to name a dataframe, because it is short. If you were working with multiple dataframes, you would want to assign them to more informative variable names."
   ]
  },
  {
   "cell_type": "markdown",
   "metadata": {},
   "source": [
    "<br>View the first five rows of our dataframe:"
   ]
  },
  {
   "cell_type": "code",
   "execution_count": null,
   "metadata": {},
   "outputs": [],
   "source": [
    "df.head()"
   ]
  },
  {
   "cell_type": "markdown",
   "metadata": {},
   "source": [
    "The data we're working with has one row for each country of the world."
   ]
  },
  {
   "cell_type": "markdown",
   "metadata": {},
   "source": [
    "The columns include two demographic measurements: average life expectancy and percent of population that lives in an urban area. There are 6 columns that measure the percent of children who received vaccinations for three diseases: measles, diphtheria, and polio. For each disease, there are measurements for the first shot of the recommended vaccination series and the last shot of the vaccination series."
   ]
  },
  {
   "cell_type": "markdown",
   "metadata": {},
   "source": [
    "**Note:** Some of our columns contain data that is in the __integer__ data type (whole numbers). Other columns contain data in the __float__ data type, which is any number that include digits after the decimal point (including 0)."
   ]
  },
  {
   "cell_type": "markdown",
   "metadata": {},
   "source": [
    "### <br>Explore the data:"
   ]
  },
  {
   "cell_type": "markdown",
   "metadata": {},
   "source": [
    "Which 5 countries have the highest life expectancy?"
   ]
  },
  {
   "cell_type": "code",
   "execution_count": null,
   "metadata": {},
   "outputs": [],
   "source": [
    "df.nlargest(5, \"life_expect\")"
   ]
  },
  {
   "cell_type": "markdown",
   "metadata": {},
   "source": [
    "Which 5 countries have the lowest?"
   ]
  },
  {
   "cell_type": "code",
   "execution_count": null,
   "metadata": {},
   "outputs": [],
   "source": [
    "df.nsmallest(5, \"life_expect\")"
   ]
  },
  {
   "cell_type": "markdown",
   "metadata": {},
   "source": [
    "#### Exercise"
   ]
  },
  {
   "cell_type": "markdown",
   "metadata": {},
   "source": [
    "Which 5 countries have the highest percentage of urban dwellers?"
   ]
  },
  {
   "cell_type": "code",
   "execution_count": null,
   "metadata": {},
   "outputs": [],
   "source": []
  },
  {
   "cell_type": "markdown",
   "metadata": {},
   "source": [
    "Which 5 countries have the lowest percentage of urban dwellers?"
   ]
  },
  {
   "cell_type": "code",
   "execution_count": null,
   "metadata": {},
   "outputs": [],
   "source": []
  },
  {
   "cell_type": "markdown",
   "metadata": {},
   "source": [
    "<br><br>Pandas also has a useful function called `describe()` that will provide you with some summary statistics for every column in your dataframe:"
   ]
  },
  {
   "cell_type": "code",
   "execution_count": null,
   "metadata": {},
   "outputs": [],
   "source": [
    "df.describe()"
   ]
  },
  {
   "cell_type": "markdown",
   "metadata": {},
   "source": [
    "### <br><br>Research question: Are vaccination rates associated with life expectancy?"
   ]
  },
  {
   "cell_type": "markdown",
   "metadata": {},
   "source": [
    "We can make a scatter plot to visualize the relationship between life expectancy and the percentage of children who received the 1st measles vaccine:"
   ]
  },
  {
   "cell_type": "code",
   "execution_count": null,
   "metadata": {},
   "outputs": [],
   "source": [
    "measles_1_plot = df.plot.scatter(\"life_expect\", \"measles_1\")"
   ]
  },
  {
   "cell_type": "markdown",
   "metadata": {},
   "source": [
    "It looks like there is an association between these two variables. A next step might be to find the best fit line or curve for this data and test if the relationship is significant or not. (Of course this doesn't tell us anything about why this relationship exists.)"
   ]
  },
  {
   "cell_type": "markdown",
   "metadata": {},
   "source": [
    "However, today we are going to focus on a different skill in Python. I mentioned that Python is great for automating tasks. Let's write a __for loop__ to loop through a __list__ of columns, making a scatter plot for each column."
   ]
  },
  {
   "cell_type": "markdown",
   "metadata": {},
   "source": [
    "Let's view our columns:"
   ]
  },
  {
   "cell_type": "code",
   "execution_count": null,
   "metadata": {},
   "outputs": [],
   "source": [
    "df.columns"
   ]
  },
  {
   "cell_type": "markdown",
   "metadata": {},
   "source": [
    "We make a __list__ of the column names that we want to use. A list is designated with square brackets. Each item inside the list is separated by a comma."
   ]
  },
  {
   "cell_type": "code",
   "execution_count": null,
   "metadata": {},
   "outputs": [],
   "source": [
    "vaccine_list = [\"measles_1\", \"measles_2\", \"diphtheria_1\", \"diphtheria_3\", \"polio_1\", \"polio_3\"]"
   ]
  },
  {
   "cell_type": "markdown",
   "metadata": {},
   "source": [
    "<br>To write a __for loop__ we start with a line that tells Python what data it should loop through. Then we indent the next line four spaces or one tab, and we write our code for making a scatter plot."
   ]
  },
  {
   "cell_type": "code",
   "execution_count": null,
   "metadata": {},
   "outputs": [],
   "source": [
    "for item in vaccine_list:\n",
    "    plot = df.plot.scatter(\"life_expect\", item)"
   ]
  },
  {
   "cell_type": "markdown",
   "metadata": {},
   "source": [
    "<br>The variable name we assign for each item in the list does not matter, as long as the name used in the first line matches to how it should be used inside the loop:"
   ]
  },
  {
   "cell_type": "code",
   "execution_count": null,
   "metadata": {},
   "outputs": [],
   "source": [
    "for v in vaccine_list:\n",
    "    plot = df.plot.scatter(\"life_expect\", v)"
   ]
  },
  {
   "cell_type": "markdown",
   "metadata": {},
   "source": [
    "<br>We can add a title to each plot."
   ]
  },
  {
   "cell_type": "markdown",
   "metadata": {},
   "source": [
    "The column names are not neat, so we first change them to something more appropriate."
   ]
  },
  {
   "cell_type": "markdown",
   "metadata": {},
   "source": [
    "For example, the column name \"measles_1\" becomes \"Measles 1 immunization rate\" by replacing the underscore with a space, capitalizing the first letter, and then adding the words \" immunization rate\":"
   ]
  },
  {
   "cell_type": "code",
   "execution_count": null,
   "metadata": {},
   "outputs": [],
   "source": [
    "for v in vaccine_list:\n",
    "    vaccine_name = v.replace(\"_\", \" \").capitalize()\n",
    "    title_name = vaccine_name + \" immunization rate\"\n",
    "    plot = df.plot.scatter(\"life_expect\", v, title = title_name)"
   ]
  },
  {
   "cell_type": "markdown",
   "metadata": {},
   "source": [
    "We can also change the color of the dots on our scatter plots. Python has a built in color called \"rebeccapurple\" that is very close to Northwestern purple:"
   ]
  },
  {
   "cell_type": "code",
   "execution_count": null,
   "metadata": {},
   "outputs": [],
   "source": [
    "for v in vaccine_list:\n",
    "    vaccine_name = v.replace(\"_\", \" \").capitalize()\n",
    "    title_name = \"{} immunization rate\".format(vaccine_name)\n",
    "    plot = df.plot.scatter(\"life_expect\", v, title = title_name, color = \"rebeccapurple\")"
   ]
  },
  {
   "cell_type": "markdown",
   "metadata": {},
   "source": [
    "#### <br>Exercises"
   ]
  },
  {
   "cell_type": "markdown",
   "metadata": {},
   "source": [
    "Make a scatter plot that shows the relationship between life expectancy and percentage of population living in an urban area. Give your plot a title."
   ]
  },
  {
   "cell_type": "code",
   "execution_count": null,
   "metadata": {},
   "outputs": [],
   "source": []
  },
  {
   "cell_type": "markdown",
   "metadata": {},
   "source": [
    "Write a __for loop__ to make scatter plots that compare the relationship between urban population percentage with each of the vaccination statistics."
   ]
  },
  {
   "cell_type": "code",
   "execution_count": null,
   "metadata": {},
   "outputs": [],
   "source": []
  }
 ],
 "metadata": {
  "kernelspec": {
   "display_name": "Python 3",
   "language": "python",
   "name": "python3"
  },
  "language_info": {
   "codemirror_mode": {
    "name": "ipython",
    "version": 3
   },
   "file_extension": ".py",
   "mimetype": "text/x-python",
   "name": "python",
   "nbconvert_exporter": "python",
   "pygments_lexer": "ipython3",
   "version": "3.7.3"
  }
 },
 "nbformat": 4,
 "nbformat_minor": 4
}
